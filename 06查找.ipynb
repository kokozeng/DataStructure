{
 "cells": [
  {
   "cell_type": "markdown",
   "metadata": {},
   "source": [
    "# 二分查找\n",
    "只能作用在有序的顺序表中。"
   ]
  },
  {
   "cell_type": "code",
   "execution_count": 28,
   "metadata": {},
   "outputs": [
    {
     "name": "stdout",
     "output_type": "stream",
     "text": [
      "[4, 12, 23, 30, 34, 45, 56, 64, 123, 523, 5346]\n",
      "8\n",
      "8\n"
     ]
    }
   ],
   "source": [
    "# 递归方式\n",
    "def binary_search(alist, first, last, item):\n",
    "    mid = (first + last)//2\n",
    "    # 递归的退出条件\n",
    "    if alist[mid] == item :\n",
    "        print(mid)\n",
    "        return mid\n",
    "    if alist[mid] > item:\n",
    "        return binary_search(alist, first, mid - 1, item)\n",
    "    else:\n",
    "        return binary_search(alist, mid + 1, last, item)\n",
    "\n",
    "if __name__ == \"__main__\":\n",
    "    alist=[12,34,56,45,23,523,64,123,5346,4,30]\n",
    "    # 因为查找是针对有序的顺序表\n",
    "    alist.sort()\n",
    "    print(alist)\n",
    "    pos = binary_search(alist, 0, len(alist)-1, 123)\n",
    "    # 为什么输出是none return出问题了吗？\n",
    "    print(pos)"
   ]
  },
  {
   "cell_type": "code",
   "execution_count": 29,
   "metadata": {},
   "outputs": [
    {
     "name": "stdout",
     "output_type": "stream",
     "text": [
      "True\n"
     ]
    }
   ],
   "source": [
    "# 递归方式\n",
    "def binary_search(alist, item):\n",
    "    n = len(alist)\n",
    "    if n > 0:\n",
    "        mid = n//2\n",
    "        if alist[mid] == item:\n",
    "            return True\n",
    "        if alist[mid] > item:\n",
    "            return binary_search(alist[:mid], item)\n",
    "        else:\n",
    "            return binary_search(alist[mid+1:], item)\n",
    "    return False\n",
    "\n",
    "if __name__ == \"__main__\":\n",
    "    alist=[12,34,56,45,23,523,64,123,5346,4,30]\n",
    "    # 因为查找是针对有序的顺序表\n",
    "    alist.sort()\n",
    "    print(binary_search(alist, 12))"
   ]
  },
  {
   "cell_type": "code",
   "execution_count": 32,
   "metadata": {},
   "outputs": [
    {
     "name": "stdout",
     "output_type": "stream",
     "text": [
      "True\n"
     ]
    }
   ],
   "source": [
    "# 非递归方式\n",
    "def binary_search(alit, item):\n",
    "    n = len(alist)\n",
    "    first = 0\n",
    "    last = n - 1\n",
    "    if n > 0:\n",
    "        while first <= last:\n",
    "            mid = (first + last)//2\n",
    "            if alist[mid] == item:\n",
    "                return True\n",
    "            if alist[mid] > item:\n",
    "                last = mid - 1\n",
    "            else:\n",
    "                first = mid + 1\n",
    "    return False\n",
    "\n",
    "if __name__ == \"__main__\":\n",
    "    alist=[12,34,56,45,23,523,64,123,5346,4,30]\n",
    "    # 因为查找是针对有序的顺序表\n",
    "    alist.sort()\n",
    "    print(binary_search(alist, 12))"
   ]
  },
  {
   "cell_type": "markdown",
   "metadata": {},
   "source": [
    "最优时间复杂度：o(1)\n",
    "最坏时间复杂度：o(logn)"
   ]
  }
 ],
 "metadata": {
  "kernelspec": {
   "display_name": "Python 3",
   "language": "python",
   "name": "python3"
  },
  "language_info": {
   "codemirror_mode": {
    "name": "ipython",
    "version": 3
   },
   "file_extension": ".py",
   "mimetype": "text/x-python",
   "name": "python",
   "nbconvert_exporter": "python",
   "pygments_lexer": "ipython3",
   "version": "3.7.3"
  }
 },
 "nbformat": 4,
 "nbformat_minor": 2
}
