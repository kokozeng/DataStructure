{
 "cells": [
  {
   "cell_type": "code",
   "execution_count": 1,
   "metadata": {},
   "outputs": [
    {
     "name": "stdout",
     "output_type": "stream",
     "text": [
      "9\n",
      "8\n",
      "7\n",
      "6\n",
      "5\n",
      "4\n",
      "3\n",
      "2\n",
      "1\n",
      "[4, 12, 23, 34, 45, 56, 64, 123, 523, 5346]\n"
     ]
    }
   ],
   "source": [
    "# 冒泡排序\n",
    "def bubblesort(alist):\n",
    "    for j in range(len(alist)-1, 0, -1):\n",
    "        print(j)\n",
    "        count = 0\n",
    "        for i in range(j):\n",
    "            if alist[i] > alist[i+1]:\n",
    "                alist[i], alist[i+1] = alist[i+1], alist[i]\n",
    "                count +=1\n",
    "        if count == 0:\n",
    "            return alist\n",
    "    return alist\n",
    "if __name__ == \"__main__\":\n",
    "    alist=[12,34,56,45,23,523,64,123,5346,4]\n",
    "    alist = bubblesort(alist)\n",
    "    print(alist)\n",
    "\n",
    "# 时间复杂度 o(n2) 最优o(n)"
   ]
  },
  {
   "cell_type": "markdown",
   "metadata": {},
   "source": [
    "![](https://ws4.sinaimg.cn/large/006tNc79ly1g1zrxdx5vqj30yk03s0sy.jpg)\n",
    "选择排序在升序最大值排列时不稳定\n",
    "\n",
    "冒泡排序是稳定的"
   ]
  },
  {
   "cell_type": "code",
   "execution_count": 5,
   "metadata": {},
   "outputs": [
    {
     "name": "stdout",
     "output_type": "stream",
     "text": [
      "[4, 12, 23, 30, 34, 45, 56, 64, 123, 523, 5346]\n"
     ]
    }
   ],
   "source": [
    "# 选择排序\n",
    "def selection_sort(alist):\n",
    "    for i in range(len(alist) - 1):\n",
    "        # 注意一直到n-1就行了，最后的肯定是最大的\n",
    "        min  = i\n",
    "        for j in range(i+1, len(alist)):\n",
    "            if alist[min] > alist[j]:\n",
    "                min = j\n",
    "        alist[i], alist[min] = alist[min], alist[i]\n",
    "    return alist\n",
    "    \n",
    "if __name__ == \"__main__\":\n",
    "    alist=[12,34,56,45,23,523,64,123,5346,4,30]\n",
    "    alist = selection_sort(alist)\n",
    "    print(alist)\n",
    "    \n",
    "# 时间复杂度 o(n2)"
   ]
  },
  {
   "cell_type": "code",
   "execution_count": 15,
   "metadata": {},
   "outputs": [
    {
     "name": "stdout",
     "output_type": "stream",
     "text": [
      "[4, 12, 23, 30, 34, 45, 56, 64, 123, 523, 5346]\n"
     ]
    }
   ],
   "source": [
    "# 插入排序\n",
    "def insert_sort(alist):\n",
    "    # 从第二个元素，下标为1的元素开始向前插入\n",
    "    for i in range(1, len(alist)):\n",
    "        # 从第i个元素开始向前比较，如果小于前一个元素则交换\n",
    "        for j in range(i, 0, -1):\n",
    "            if alist[j] < alist[j-1]:\n",
    "                alist[j], alist[j-1] = alist[j-1], alist[j]\n",
    "            else:\n",
    "                break\n",
    "    return alist\n",
    "                                     \n",
    "if __name__ == \"__main__\":\n",
    "    #alist = [1,2,3,4,5]\n",
    "    alist=[12,34,56,45,23,523,64,123,5346,4,30]\n",
    "    #insert_sort(alist)\n",
    "    alist = insert_sort(alist)\n",
    "    print(alist)"
   ]
  },
  {
   "cell_type": "code",
   "execution_count": 9,
   "metadata": {},
   "outputs": [
    {
     "name": "stdout",
     "output_type": "stream",
     "text": [
      "[4, 12, 23, 30, 34, 45, 56, 64, 123, 523, 5346]\n"
     ]
    }
   ],
   "source": [
    "# 插入排序\n",
    "def insert_sort(alist):\n",
    "    # 从第二个元素，下标为1的元素开始向前插入\n",
    "    # 从第j个元素开始向前比较，如果小于前一个元素则交换\n",
    "    for i in range(1, len(alist)):\n",
    "        j = i\n",
    "        while j:\n",
    "            if alist[j] < alist[j-1]:\n",
    "                alist[j], alist[j-1] = alist[j-1], alist[j]\n",
    "                j = j - 1\n",
    "            else:\n",
    "                break\n",
    "    return alist\n",
    "                                     \n",
    "if __name__ == \"__main__\":\n",
    "    alist=[12,34,56,45,23,523,64,123,5346,4,30]\n",
    "    alist = insert_sort(alist)\n",
    "    print(alist)\n",
    "\n",
    "时间复杂度 o(n2) 最优o(n)当序列处于升序的时候"
   ]
  },
  {
   "cell_type": "code",
   "execution_count": 27,
   "metadata": {},
   "outputs": [
    {
     "name": "stdout",
     "output_type": "stream",
     "text": [
      "[4, 12, 23, 30, 34, 45, 56, 64, 123, 523, 5346]\n"
     ]
    }
   ],
   "source": [
    "# 希尔排序\n",
    "def shell_sort(alist):\n",
    "    gap = len(alist)//2\n",
    "    # gap变化到0之前，插入算法执行的次数\n",
    "    while gap > 0: \n",
    "        #元素从i=gap开始，与它间隔gap的数进行比较。元素从gap开始不断+1。\n",
    "        #希尔算法与普通的插入算法区别就是步长\n",
    "        #普通插入算法就是希尔算法gap=1时的情况\n",
    "        for i in range(gap, len(alist)):\n",
    "            j = i\n",
    "            while j > 0:\n",
    "                if alist[j] < alist[j-gap]:\n",
    "                    alist[j], alist[j-gap] = alist[j-gap], alist[j]\n",
    "                    j = j - gap\n",
    "                else:\n",
    "                    break\n",
    "        gap = gap//2\n",
    "    return alist\n",
    "if __name__ == \"__main__\":\n",
    "    alist=[12,34,56,45,23,523,64,123,5346,4,30]\n",
    "    alist = shell_sort(alist)\n",
    "    print(alist)\n",
    "\n",
    "#最优时间复杂度：根据步长序列的不同而不同\n",
    "#最坏时间复杂度：o(n2)\n",
    "#不稳定 "
   ]
  },
  {
   "cell_type": "code",
   "execution_count": 3,
   "metadata": {},
   "outputs": [
    {
     "name": "stdout",
     "output_type": "stream",
     "text": [
      "[4, 12, 23, 30, 34, 45, 56, 64, 123, 523, 5346]\n"
     ]
    }
   ],
   "source": [
    "# 快速排序\n",
    "def quick_sort(alist, first, last):\n",
    "    if first >= last:\n",
    "        return\n",
    "    min_value = alist[first]\n",
    "    low = first\n",
    "    high = last\n",
    "\n",
    "    while high > low:\n",
    "        while low < high and alist[high] >= min_value:\n",
    "            high -= 1\n",
    "        alist[low] = alist[high]\n",
    "        while low < high and alist[low] < min_value:\n",
    "            low +=1\n",
    "        alist[high] = alist[low]\n",
    "    alist[low] = min_value\n",
    "    \n",
    "    quick_sort(alist, first, low-1)\n",
    "    quick_sort(alist, low+1, last)\n",
    "    \n",
    "if __name__ == \"__main__\":\n",
    "    alist=[12,34,56,45,23,523,64,123,5346,4,30]\n",
    "    quick_sort(alist, 0, len(alist)-1)\n",
    "    print(alist)\n",
    "# 最优 o(nlogn)\n",
    "# 最复杂 o(n2)\n",
    "# 不稳定\n",
    "    "
   ]
  },
  {
   "cell_type": "code",
   "execution_count": 13,
   "metadata": {},
   "outputs": [
    {
     "name": "stdout",
     "output_type": "stream",
     "text": [
      "[12, 34, 56, 45, 23, 523, 64, 123, 5346, 4, 30]\n",
      "[4, 12, 23, 30, 34, 45, 56, 64, 123, 523, 5346]\n"
     ]
    }
   ],
   "source": [
    "# 归并排序\n",
    "def merge_sort(alist):\n",
    "    n = len(alist)//2\n",
    "    # 拆分时的递归结束的时候的条件，当数组里只有一个元素的时候停止\n",
    "    if len(alist)<= 1:\n",
    "        return alist\n",
    "    left_li = merge_sort(alist[:n])\n",
    "    right_li = merge_sort(alist[n:])\n",
    "    \n",
    "    # merge\n",
    "    left_point = 0\n",
    "    right_point = 0\n",
    "    res = []\n",
    "    while left_point < len(left_li) and right_point < len(right_li):\n",
    "        if left_li[left_point] < right_li[right_point]:\n",
    "            res.append(left_li[left_point])\n",
    "            left_point += 1\n",
    "        else:\n",
    "            res.append(right_li[right_point])\n",
    "            right_point += 1\n",
    "    res += left_li[left_point:]\n",
    "    res += right_li[right_point:]\n",
    "    return res\n",
    "\n",
    "if __name__ == \"__main__\":\n",
    "    alist=[12,34,56,45,23,523,64,123,5346,4,30]\n",
    "    print(alist)\n",
    "    new_alist = merge_sort(alist)\n",
    "    print(new_alist)\n",
    "    "
   ]
  },
  {
   "cell_type": "code",
   "execution_count": 12,
   "metadata": {},
   "outputs": [
    {
     "name": "stdout",
     "output_type": "stream",
     "text": [
      "[12, 34, 56, 45, 23, 523, 64, 123, 5346, 4, 30]\n",
      "[4, 12, 23, 30, 34, 45, 56, 64, 123, 523, 5346]\n"
     ]
    }
   ],
   "source": [
    "def merge_sort(alist):\n",
    "    if len(alist) <= 1:\n",
    "        return alist\n",
    "    # 二分分解\n",
    "    num = len(alist)//2\n",
    "    left = merge_sort(alist[:num])\n",
    "    right = merge_sort(alist[num:])\n",
    "    # 合并\n",
    "    return merge(left,right)\n",
    "\n",
    "def merge(left, right):\n",
    "    '''合并操作，将两个有序数组left[]和right[]合并成一个大的有序数组'''\n",
    "    #left与right的下标指针\n",
    "    l, r = 0, 0\n",
    "    result = []\n",
    "    while l<len(left) and r<len(right):\n",
    "        if left[l] < right[r]:\n",
    "            result.append(left[l])\n",
    "            l += 1\n",
    "        else:\n",
    "            result.append(right[r])\n",
    "            r += 1\n",
    "    result += left[l:]\n",
    "    result += right[r:]\n",
    "    return result\n",
    "\n",
    "if __name__ == \"__main__\":\n",
    "    alist=[12,34,56,45,23,523,64,123,5346,4,30]\n",
    "    print(alist)\n",
    "    sorted_alist = merge_sort(alist)\n",
    "    print(sorted_alist)"
   ]
  }
 ],
 "metadata": {
  "kernelspec": {
   "display_name": "Python 3",
   "language": "python",
   "name": "python3"
  },
  "language_info": {
   "codemirror_mode": {
    "name": "ipython",
    "version": 3
   },
   "file_extension": ".py",
   "mimetype": "text/x-python",
   "name": "python",
   "nbconvert_exporter": "python",
   "pygments_lexer": "ipython3",
   "version": "3.7.3"
  }
 },
 "nbformat": 4,
 "nbformat_minor": 2
}
