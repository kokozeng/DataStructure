{
 "cells": [
  {
   "cell_type": "markdown",
   "metadata": {},
   "source": [
    "# 树与树算法\n",
    "## 树的概念\n",
    "\n",
    "树（英语：tree）是一种抽象数据类型（ADT）或是实作这种抽象数据类型的数据结构，用来模拟具有树状结构性质的数据集合。它是由n（n>=1）个有限节点组成一个具有层次关系的集合。把它叫做“树”是因为它看起来像一棵倒挂的树，也就是说它是根朝上，而叶朝下的。它具有以下的特点：\n",
    "\n",
    "- 每个节点有零个或多个子节点；\n",
    "- 没有父节点的节点称为根节点；\n",
    "- 每一个非根节点有且只有一个父节点；\n",
    "- 除了根节点外，每个子节点可以分为多个不相交的子树；\n",
    "比如说：\n",
    "![](https://ws1.sinaimg.cn/large/006tNc79ly1g23dz1na70j30dy06mt9d.jpg)"
   ]
  },
  {
   "cell_type": "code",
   "execution_count": null,
   "metadata": {},
   "outputs": [],
   "source": [
    "class Node(object):\n",
    "    def __init__(self, item):\n",
    "        self.elem = item\n",
    "        self.lchild = None\n",
    "        self.rchild = None\n",
    "\n",
    "class binary_tree(object):\n",
    "    def __init__(self):\n",
    "        self.root = None\n",
    "        \n",
    "    def add(self, item):\n",
    "        node = Node(item)\n",
    "        queue = [self.root]\n",
    "        if self.root == None:\n",
    "            self.root = node\n",
    "        while queue:\n",
    "            cur = queue.pop(0)\n",
    "            if cur.lchild == None:\n",
    "                cur.lchild = node\n",
    "                return #注意此时添加完毕，需要return\n",
    "            else:\n",
    "                queue.append(cur.lchild)\n",
    "            if cur.rchild == None:\n",
    "                cur.rchild = node\n",
    "                return #注意此时添加完毕，需要return\n",
    "            else:\n",
    "                queue.append(cur.rchild)\n",
    "    \n",
    "    def breadth_"
   ]
  },
  {
   "cell_type": "code",
   "execution_count": null,
   "metadata": {},
   "outputs": [],
   "source": []
  }
 ],
 "metadata": {
  "kernelspec": {
   "display_name": "Python 3",
   "language": "python",
   "name": "python3"
  },
  "language_info": {
   "codemirror_mode": {
    "name": "ipython",
    "version": 3
   },
   "file_extension": ".py",
   "mimetype": "text/x-python",
   "name": "python",
   "nbconvert_exporter": "python",
   "pygments_lexer": "ipython3",
   "version": "3.7.3"
  }
 },
 "nbformat": 4,
 "nbformat_minor": 2
}
