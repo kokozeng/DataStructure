{
 "cells": [
  {
   "cell_type": "markdown",
   "metadata": {},
   "source": [
    "教材：\n",
    "\n",
    "《大话数据结构》\n",
    "《算法图解》\n",
    "其他材料：\n",
    "\n",
    "《大话数据结构》python实现 https://github.com/search?l=Python&q=%E5%A4%A7%E8%AF%9D%E6%95%B0%E6%8D%AE%E7%BB%93%E6%9E%84&type=Repositories \n",
    "\n",
    " 北大数据结构与算法分析（python) http://gis4g.pku.edu.cn/course/pythonds/\n",
    " https://github.com/PegasusWang/python_data_structures_and_algorithms\n",
    " \n",
    " 数据结构与算法分析（python) https://github.com/PegasusWang/python_data_structures_and_algorithms\n",
    " \n",
    " B站课程 https://www.bilibili.com/video/av17888581?p=3\n",
    " \n",
    "     极客时间 数据结构与算法之美 https://time.geekbang.org/column/intro/126"
   ]
  },
  {
   "cell_type": "code",
   "execution_count": 11,
   "metadata": {},
   "outputs": [
    {
     "name": "stdout",
     "output_type": "stream",
     "text": [
      "<class 'list'>\n",
      "['5', '4', '3', '2', '1']\n",
      "['1', '2', '3', '4']\n",
      "['5', '4', '3']\n",
      "<class 'str'>\n",
      "gfedc\n"
     ]
    }
   ],
   "source": [
    "number = '12345'\n",
    "number = list(number)\n",
    "print(type(number))\n",
    "print(number[::-1])\n",
    "print(number[:-1])\n",
    "print(number[-1:1:-1])\n",
    "s = 'abcdefg'\n",
    "print(type(s))\n",
    "print(s[-1:1:-1])"
   ]
  },
  {
   "cell_type": "code",
   "execution_count": 14,
   "metadata": {},
   "outputs": [
    {
     "name": "stdout",
     "output_type": "stream",
     "text": [
      "True\n",
      "0\n",
      "1 2 3 "
     ]
    }
   ],
   "source": [
    "# 单结点\n",
    "class Node(object):\n",
    "    '''节点'''\n",
    "    def __init__(self, elem):\n",
    "        self.elem = elem\n",
    "        self.next = None\n",
    "        \n",
    "#node= Node(100)\n",
    "\n",
    "#单链表的建立\n",
    "class singlelinklist(object):\n",
    "    '''单链表'''\n",
    "    def __init__(self, node=None):\n",
    "        self._head = node       #私有属性？\n",
    "        \n",
    "    def is_empty(self): \n",
    "        '''链表是否为空'''\n",
    "        return self._head == None\n",
    "        \n",
    "    def length(self):\n",
    "        '''链表的长度'''\n",
    "        #cur游标 用来移动遍历节点\n",
    "        cur = self._head\n",
    "        #count记录数量\n",
    "        count = 0\n",
    "        while cur != None:\n",
    "            count += 1\n",
    "            cur = cur.next\n",
    "        return count\n",
    "    \n",
    "    def travel(self):\n",
    "        '''遍历整个链表'''\n",
    "        cur = self._head\n",
    "        while cur != None:\n",
    "            print(cur.elem, end = ' ')\n",
    "            #print(cur.next)\n",
    "            cur = cur.next\n",
    "    \n",
    "    def add(self, item):\n",
    "        '''链表头部添加元素, 头插法'''\n",
    "        node = Node(item)\n",
    "        node.next = self._head\n",
    "        self._head = node\n",
    "        \n",
    "    def append(self, item):\n",
    "        '''链表尾部添加元素, 尾插法'''\n",
    "        '''item指的是具体的数据'''\n",
    "        node = Node(item)\n",
    "        if self.is_empty():\n",
    "            self._head = node\n",
    "        else:\n",
    "            cur = self._head\n",
    "            while cur.next != None:\n",
    "                cur = cur.next\n",
    "            cur.next = node\n",
    "    \n",
    "    def insert(self, pos, item):\n",
    "        '''指定位置添加元素\n",
    "        :param pos从0开始索引\n",
    "        '''\n",
    "        node = Node(item)\n",
    "        pre = self._head\n",
    "        count = 0\n",
    "        while pre != None:\n",
    "            count +=1\n",
    "            if pos == count:\n",
    "                node.next = pre.next\n",
    "                pre.next = node\n",
    "                break\n",
    "            else:\n",
    "                continue\n",
    "        pre = pre.next\n",
    "        \n",
    "if __name__ == \"__main__\":\n",
    "    ll = singlelinklist()\n",
    "    print(ll.is_empty())\n",
    "    print(ll.length())\n",
    "    ll.append(2)\n",
    "    ll.append(3)\n",
    "    ll.add(1)\n",
    "    ll.travel()\n",
    "    ll.insert(1, 4)\n",
    "    ll.travel"
   ]
  },
  {
   "cell_type": "code",
   "execution_count": null,
   "metadata": {},
   "outputs": [],
   "source": []
  }
 ],
 "metadata": {
  "kernelspec": {
   "display_name": "Python 3",
   "language": "python",
   "name": "python3"
  },
  "language_info": {
   "codemirror_mode": {
    "name": "ipython",
    "version": 3
   },
   "file_extension": ".py",
   "mimetype": "text/x-python",
   "name": "python",
   "nbconvert_exporter": "python",
   "pygments_lexer": "ipython3",
   "version": "3.7.3"
  }
 },
 "nbformat": 4,
 "nbformat_minor": 2
}
