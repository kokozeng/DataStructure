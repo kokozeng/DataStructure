{
 "cells": [
  {
   "cell_type": "markdown",
   "metadata": {},
   "source": [
    "# python语法不清晰概念总结"
   ]
  },
  {
   "cell_type": "markdown",
   "metadata": {},
   "source": [
    "# Python 标识符\n",
    "在 Python 里，标识符由字母、数字、下划线组成。\n",
    "\n",
    "在 Python 中，所有标识符可以包括英文、数字以及下划线(_)，但不能以数字开头。\n",
    "\n",
    "Python 中的标识符是区分大小写的。\n",
    "\n",
    "以下划线开头的标识符是有特殊意义的。以单下划线开头 _foo 的代表不能直接访问的类属性，需通过类提供的接口进行访问，不能用 from xxx import * 而导入。\n",
    "\n",
    "以双下划线开头的*__foo*代表类的私有成员，以双下划线开头和结尾的__foo__代表 Python 里特殊方法专用的标识，如__init__()代表类的构造函数。\n",
    "\n",
    "Python 可以同一行显示多条语句，方法是用分号 ; 分开，如："
   ]
  },
  {
   "cell_type": "markdown",
   "metadata": {},
   "source": [
    "## python 数据类型\n",
    "\n",
    "Python3 的六个标准数据类型中：\n",
    "\n",
    "不可变数据（3 个）：Number（数字）、String（字符串）、Tuple（元组）；\n",
    "\n",
    "可变数据（3 个）：List（列表）、Dictionary（字典）、Set（集合）"
   ]
  },
  {
   "cell_type": "code",
   "execution_count": 50,
   "metadata": {},
   "outputs": [
    {
     "name": "stdout",
     "output_type": "stream",
     "text": [
      "<class 'int'> <class 'float'> <class 'bool'> <class 'complex'>\n"
     ]
    }
   ],
   "source": [
    "a, b, c, d = 20, 5.5, True, 4+3j\n",
    "print(type(a), type(b), type(c), type(d))"
   ]
  },
  {
   "cell_type": "code",
   "execution_count": 51,
   "metadata": {},
   "outputs": [
    {
     "name": "stdout",
     "output_type": "stream",
     "text": [
      "0.5\n",
      "0\n",
      "2\n",
      "32\n"
     ]
    }
   ],
   "source": [
    "print(2 / 4)  # 除法，得到一个浮点数\n",
    "print(2 // 4) # 除法，得到一个整数\n",
    "print(17 % 3) # 取余 \n",
    "print(2 ** 5) # 乘方"
   ]
  },
  {
   "cell_type": "markdown",
   "metadata": {},
   "source": [
    "## 字典\n",
    "字典是另一种可变容器模型，且可存储任意类型对象。\n",
    "\n",
    "字典的每个键值(key=>value)对用冒号(:)分割，每个对之间用逗号(,)分割，整个字典包括在花括号({})中 ,格式如下所示：\n",
    "\n",
    "d = {key1 : value1, key2 : value2 }\n",
    "键必须是唯一的，但值则不必。\n",
    "\n",
    "值可以取任何数据类型，但键必须是不可变的，如字符串，数字或元组。\n",
    "\n",
    "一个简单的字典实例："
   ]
  },
  {
   "cell_type": "code",
   "execution_count": 63,
   "metadata": {},
   "outputs": [
    {
     "name": "stdout",
     "output_type": "stream",
     "text": [
      "dict['Name']:  Runoob\n",
      "dict['Age']:  7\n",
      "Ture2\n"
     ]
    }
   ],
   "source": [
    "dict = {'Name': 'Runoob', 'Age': 7, 'Class': 'First'}\n",
    " \n",
    "print (\"dict['Name']: \", dict['Name'])\n",
    "print (\"dict['Age']: \", dict['Age'])\n",
    "# dict里面判断的是key的值\n",
    "# dict[]里面索引的是key，对应的值是value\n",
    "if 'Runoob' in dict:\n",
    "    print('Ture1')\n",
    "if 'Name' in dict:\n",
    "    print('Ture2')"
   ]
  },
  {
   "cell_type": "code",
   "execution_count": 9,
   "metadata": {},
   "outputs": [
    {
     "name": "stdout",
     "output_type": "stream",
     "text": [
      "20 10\n"
     ]
    }
   ],
   "source": [
    "# python 交换变量\n",
    "a = 10\n",
    "b = 20\n",
    "a, b = b, a\n",
    "print(a,b)\n",
    "\n",
    "\n",
    "#python变量实际上存的是一个地址,变量维护的是一个地址，可以指代任何东西\n"
   ]
  },
  {
   "cell_type": "code",
   "execution_count": 6,
   "metadata": {},
   "outputs": [
    {
     "name": "stdout",
     "output_type": "stream",
     "text": [
      "3.0 -4.5\n"
     ]
    }
   ],
   "source": [
    "#!/usr/bin/python3\n",
    "# 类的init初始化\n",
    "class Complex:\n",
    "    def __init__(self, realpart, imagpart):\n",
    "        self.r = realpart\n",
    "        self.i = imagpart\n",
    "x = Complex(3.0, -4.5)\n",
    "print(x.r, x.i)   # 输出结果：3.0 -4.5"
   ]
  },
  {
   "cell_type": "markdown",
   "metadata": {},
   "source": [
    "# 关键字"
   ]
  },
  {
   "cell_type": "markdown",
   "metadata": {},
   "source": [
    "##  range\n",
    "函数语法：\n",
    "\n",
    "`range(start, stop[, step])`\n",
    "\n",
    "参数说明：\n",
    "\n",
    "start: 计数从 start 开始。默认是从 0 开始。例如range（5）等价于range（0， 5）;\n",
    "\n",
    "stop: 计数到 stop 结束，但不包括 stop。例如：range（0， 5） 是[0, 1, 2, 3, 4]没有5\n",
    "\n",
    "step：步长，默认为1。例如：range（0， 5） 等价于 range(0, 5, 1)"
   ]
  },
  {
   "cell_type": "code",
   "execution_count": 64,
   "metadata": {},
   "outputs": [
    {
     "name": "stdout",
     "output_type": "stream",
     "text": [
      "123456789\n",
      "\n",
      "0123456789\n",
      "\n",
      "0369\n",
      "\n",
      "\n",
      "\n"
     ]
    }
   ],
   "source": [
    "# range\n",
    "for i in range(1, 10): #[m, n)\n",
    "    print(i, end = '')\n",
    "print('\\n')\n",
    "for i in range(10): #[0, n) 相当于开始是0\n",
    "    print(i, end = '')\n",
    "print('\\n')\n",
    "for i in range(0, 10, 3):\n",
    "    print(i, end = '')\n",
    "print('\\n')\n",
    "for i in range(0, 10, -1):\n",
    "    print(i, end = '')\n",
    "print('\\n')\n",
    "for i in range(0):\n",
    "    print(i, end = '')"
   ]
  },
  {
   "cell_type": "markdown",
   "metadata": {},
   "source": [
    "## sort\n",
    "\n",
    "### 描述\n",
    "sort() 函数用于对原列表进行排序，如果指定参数，则使用比较函数指定的比较函数。\n",
    "\n",
    "### 语法\n",
    "sort()方法语法：\n",
    "\n",
    "list.sort(cmp=None, key=None, reverse=False)\n",
    "\n",
    "参数\n",
    "\n",
    "cmp -- 可选参数, 如果指定了该参数会使用该参数的方法进行排序。\n",
    "\n",
    "key -- 主要是用来进行比较的元素，只有一个参数，具体的函数的参数就是取自于可迭代对象中，指定可迭代对象中的一个元素来进行排序。\n",
    "\n",
    "reverse -- 排序规则，reverse = True 降序， reverse = False 升序（默认）。"
   ]
  },
  {
   "cell_type": "code",
   "execution_count": 67,
   "metadata": {},
   "outputs": [
    {
     "name": "stdout",
     "output_type": "stream",
     "text": [
      "将字符串按空格分割: ['abc00000', '12345678', '90000000']\n",
      "字符串升序: ['12345678', '90000000', 'abc00000']\n",
      "字符串降序: ['abc00000', '90000000', '12345678']\n",
      "排序列表： ['12345678', '90000000', 'abc00000']\n",
      "排序列表test元素2： [(4, 1), (2, 2), (1, 3), (3, 4)]\n",
      "排序列表test元素1： [(1, 3), (2, 2), (3, 4), (4, 1)]\n"
     ]
    }
   ],
   "source": [
    "s='abc00000 12345678 90000000'\n",
    "s = s.split()\n",
    "print(\"将字符串按空格分割:\", s)\n",
    "s.sort()\n",
    "print(\"字符串升序:\", s)\n",
    "s.sort(reverse=True)\n",
    "print(\"字符串降序:\", s)\n",
    "\n",
    "'''没看懂这里是什么操作'''\n",
    "# 获取列表的第二个元素\n",
    "def takeSecond(elem):\n",
    "    return elem[0]\n",
    " \n",
    "# 指定第二个元素排序\n",
    "s.sort(key=takeSecond)\n",
    " \n",
    "# 输出类别\n",
    "print ('排序列表：', s)\n",
    "\n",
    "test=  [(2, 2), (3, 4), (4, 1), (1, 3)]\n",
    "test.sort(key= lambda x:x[1])\n",
    "print ('排序列表test元素2：', test)\n",
    "test.sort(key= lambda x:x[0])\n",
    "print ('排序列表test元素1：', test)"
   ]
  },
  {
   "cell_type": "code",
   "execution_count": null,
   "metadata": {},
   "outputs": [],
   "source": [
    "lambda x:x+1(1)\n",
    "# lambda的函数定义\n",
    "def g(x):\n",
    "2     return x+1"
   ]
  },
  {
   "cell_type": "markdown",
   "metadata": {},
   "source": [
    "## filter map reduce\n",
    "filter(function, sequence)：对sequence中的item依次执行function(item)，将执行结果为True的item组成一个List/String/Tuple（取决于sequence的类型）返回：\n",
    "\n",
    "```python\n",
    ">>> def f(x): return x % 2 != 0 and x % 3 != 0 \n",
    ">>> filter(f, range(2, 25)) \n",
    "[5, 7, 11, 13, 17, 19, 23]\n",
    ">>> def f(x): return x != 'a' \n",
    ">>> filter(f, \"abcdef\") \n",
    "'bcdef'\n",
    "```\n",
    "\n",
    "map(function, sequence) ：对sequence中的item依次执行function(item)，见执行结果组成一个List返回：\n",
    "```python\n",
    ">>> def cube(x): return x*x*x \n",
    ">>> map(cube, range(1, 11)) \n",
    "[1, 8, 27, 64, 125, 216, 343, 512, 729, 1000]\n",
    ">>> def cube(x) : return x + x \n",
    "... \n",
    ">>> map(cube , \"abcde\") \n",
    "['aa', 'bb', 'cc', 'dd', 'ee']\n",
    "另外map也支持多个sequence，这就要求function也支持相应数量的参数输入：\n",
    ">>> def add(x, y): return x+y \n",
    ">>> map(add, range(8), range(8)) \n",
    "[0, 2, 4, 6, 8, 10, 12, 14]\n",
    "```\n",
    "\n",
    "reduce(function, sequence, starting_value)：对sequence中的item顺序迭代调用function，如果有starting_value，还可以作为初始值调用，例如可以用来对List求和：\n",
    "```python\n",
    ">>> def add(x,y): return x + y \n",
    ">>> reduce(add, range(1, 11)) \n",
    "55 （注：1+2+3+4+5+6+7+8+9+10）\n",
    ">>> reduce(add, range(1, 11), 20) \n",
    "75 （注：1+2+3+4+5+6+7+8+9+10+20）\n",
    "```"
   ]
  },
  {
   "cell_type": "code",
   "execution_count": 28,
   "metadata": {},
   "outputs": [
    {
     "name": "stdout",
     "output_type": "stream",
     "text": [
      "随机排序列表 :  [10, 16, 5, 20]\n",
      "随机排序列表 :  [20, 5, 10, 16]\n"
     ]
    }
   ],
   "source": [
    "# random\n",
    "import random\n",
    "\n",
    "list = [20, 16, 10, 5];\n",
    "random.shuffle(list)\n",
    "print(\"随机排序列表 : \", list)\n",
    "\n",
    "random.shuffle(list)\n",
    "print(\"随机排序列表 : \", list)"
   ]
  },
  {
   "cell_type": "markdown",
   "metadata": {},
   "source": [
    "## yield\n",
    "\n",
    "yield 是一个类似 return 的关键字，只是这个函数返回的是个生成器\n",
    "当你调用这个函数的时候，函数内部的代码并不立马执行 ，这个函数只是返回一个生成器对象\n",
    "当你使用for进行迭代的时候，函数中的代码才会执行"
   ]
  },
  {
   "cell_type": "code",
   "execution_count": 49,
   "metadata": {},
   "outputs": [
    {
     "name": "stdout",
     "output_type": "stream",
     "text": [
      "1 1 2 3 5 8 "
     ]
    }
   ],
   "source": [
    "def fab(max): \n",
    "    n, a, b = 0, 0, 1 \n",
    "    while n < max: \n",
    "        yield b      # 使用 yield\n",
    "        #print (b) \n",
    "        a, b = b, a + b \n",
    "        n = n + 1\n",
    "for n in fab(6):\n",
    "    print (n, end = ' ')"
   ]
  },
  {
   "cell_type": "markdown",
   "metadata": {},
   "source": [
    "## enumerate\n",
    "enumerate(sequence, [start=0])\n",
    "\n",
    "sequence -- 一个序列、迭代器或其他支持迭代对象。\n",
    "\n",
    "start -- 下标起始位置。"
   ]
  },
  {
   "cell_type": "code",
   "execution_count": 3,
   "metadata": {},
   "outputs": [
    {
     "name": "stdout",
     "output_type": "stream",
     "text": [
      "[(0, 'Spring'), (1, 'Summer'), (2, 'Fall'), (3, 'Winter')]\n",
      "[(1, 'Spring'), (2, 'Summer'), (3, 'Fall'), (4, 'Winter')]\n",
      "0 Spring\n",
      "1 Summer\n",
      "2 Fall\n",
      "3 Winter\n"
     ]
    }
   ],
   "source": [
    "seasons = ['Spring', 'Summer', 'Fall', 'Winter']\n",
    "print(list(enumerate(seasons)))\n",
    "print(list(enumerate(seasons, start=1)))\n",
    "for i, element in enumerate(seasons):\n",
    "    print(i, element)"
   ]
  },
  {
   "cell_type": "markdown",
   "metadata": {},
   "source": [
    "## str.isdigit()\n",
    "\n",
    "如果字符串只包含数字则返回 True 否则返回 False。"
   ]
  },
  {
   "cell_type": "code",
   "execution_count": 1,
   "metadata": {},
   "outputs": [
    {
     "name": "stdout",
     "output_type": "stream",
     "text": [
      "True\n",
      "False\n"
     ]
    }
   ],
   "source": [
    "str = \"123456\"; \n",
    "print (str.isdigit())\n",
    "\n",
    "str = \"Runoob example....wow!!!\"\n",
    "print (str.isdigit())"
   ]
  },
  {
   "cell_type": "markdown",
   "metadata": {},
   "source": [
    "## Python strip()方法\n",
    "\n",
    "str.strip([chars]);\n",
    "\n",
    "作用：Python strip() 方法用于移除字符串头尾指定的字符（默认为空格）。\n",
    "注意：同时会将字符串尾的换行符（ASCII码十进制值为10）移除掉\n",
    "\n",
    "## Python split()方法\n",
    "\n",
    "str.split(str=\"\", num=string.count(str)).\n",
    "Python split()通过指定分隔符对字符串进行切片，如果参数num有指定值，则仅分隔num个子字符串\n",
    "\n",
    "str -- 分隔符，默认为空格。\n",
    "num -- 分割次数。\n",
    "\n",
    "\n",
    "获取字符的ASCII码\n",
    "\n",
    "```python\n",
    "# Get the ASCII number of a character\n",
    "number = ord(char)\n",
    "# Get the character given by an ASCII number\n",
    "char = chr(number)\n",
    "```\n",
    "\n",
    "\n",
    "## Python join()方法\n",
    "\n",
    "str.join(sequence)\n",
    "作用：Python join() 方法用于将序列中的元素以指定的字符连接生成一个新的字符串。\n",
    "\n",
    "```python\n",
    "#!/usr/bin/python\n",
    "str = \"-\"\n",
    "seq = (\"a\", \"b\", \"c\")# 字符串序列\n",
    "print str.join( seq )\n",
    "```\n",
    "\n",
    "输出：\n",
    "a-b-c\n",
    "\n",
    "## Python reversed()方法\n",
    "\n",
    "stringNew = reversed(stringSome)\n",
    "\n",
    "返回一个反转之后的序列。当你的序列类是有序时，类似列表和元组，再实现这个方法。\n",
    "备注：将序列反转，也可以使用如下方式：\n",
    "stringNew = string[::-2]从后往前获取数列中的值，每2个值中取1个\n",
    "\n",
    "## Python bin()方法\n",
    "\n",
    "返回一个 整数int 或者 长整数long int 的二进制表示\n",
    "返回值：string字符串\n",
    "\n",
    "```python\n",
    "bin(20)\n",
    "'0b10100'\n",
    "```\n",
    "\n",
    "## Python round()方法\n",
    "\n",
    "返回浮点数x的四舍五入值。\n",
    "\n",
    "```python\n",
    "print \"round(80.23456, 2) : \", round(80.23456, 2)\n",
    "```\n",
    "\n",
    "输出：\n",
    "round(80.23456, 2) : 80.23"
   ]
  },
  {
   "cell_type": "code",
   "execution_count": 8,
   "metadata": {},
   "outputs": [
    {
     "name": "stdout",
     "output_type": "stream",
     "text": [
      "round(80.23456, 2) :  80.23\n",
      "0b10100\n"
     ]
    }
   ],
   "source": [
    "print (\"round(80.23456, 2) : \", round(80.23456, 2))\n",
    "print(bin(20))"
   ]
  }
 ],
 "metadata": {
  "kernelspec": {
   "display_name": "Python 3",
   "language": "python",
   "name": "python3"
  },
  "language_info": {
   "codemirror_mode": {
    "name": "ipython",
    "version": 3
   },
   "file_extension": ".py",
   "mimetype": "text/x-python",
   "name": "python",
   "nbconvert_exporter": "python",
   "pygments_lexer": "ipython3",
   "version": "3.7.3"
  }
 },
 "nbformat": 4,
 "nbformat_minor": 2
}
