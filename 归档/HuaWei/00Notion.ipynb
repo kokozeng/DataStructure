{
 "cells": [
  {
   "cell_type": "code",
   "execution_count": null,
   "metadata": {},
   "outputs": [],
   "source": [
    "try: line=input() except EOFError:break #捕获异常"
   ]
  },
  {
   "cell_type": "markdown",
   "metadata": {},
   "source": [
    "\n",
    "等待评测: 评测系统还没有评测到这个提交，请稍候\n",
    "正在评测: 评测系统正在评测，稍候会有结果\n",
    "编译错误:您提交的代码无法完成编译，点击“编译错误”可以看到编译器输出的错误信息\n",
    "答案正确: 恭喜！您通过了这道题 \n",
    "运行错误: 您提交的程序在运行时发生错误,可能是空指针\n",
    "部分正确: 您的代码只通过了部分测试点，继续努力！\n",
    "格式错误: 您的程序输出的格式不符合要求（比如空格和换行与要求不一致）\n",
    "答案错误: 您的程序未能对评测系统的数据返回正确的结果\n",
    "运行超时: 您的程序未能在规定时间内运行结束\n",
    "内存超限: 您的程序使用了超过限制的内存\n",
    "异常退出: 您的程序运行时发生了错误\n",
    "返回非零: 您的程序结束时返回值非 0，如果使用 C 或 C++ 语言要保证 int main 函数最终 return 0\n",
    "浮点错误: 您的程序运行时发生浮点错误，比如遇到了除以 0 的情况\n",
    "段错误 : 您的程序发生段错误，可能是数组越界，堆栈溢出（比如，递归调用层数太多）等情况引起\n",
    "多种错误: 您的程序对不同的测试点出现不同的错误\n",
    "内部错误: 请仔细检查你的代码是否有未考虑到的异常情况，例如非法调用、代码不符合规范等。\n"
   ]
  },
  {
   "cell_type": "markdown",
   "metadata": {},
   "source": [
    "如何使用循环测试用例"
   ]
  },
  {
   "cell_type": "markdown",
   "metadata": {},
   "source": [
    "计算a+b的和\n",
    "\n",
    "每行包含两个整数a和b\n",
    "\n",
    "对于每行输入对应输出一行a和b的和\n",
    "\n",
    "输入\n",
    "\n",
    "1 5\n",
    "\n",
    "输出\n",
    "\n",
    "6\n"
   ]
  },
  {
   "cell_type": "code",
   "execution_count": null,
   "metadata": {},
   "outputs": [],
   "source": [
    "# python3\n",
    "import sys\n",
    "for line in sys.stdin:\n",
    "    a = line.split()\n",
    "    print(int(a[0]) + int(a[1]))"
   ]
  },
  {
   "cell_type": "code",
   "execution_count": null,
   "metadata": {},
   "outputs": [],
   "source": [
    "# python2\n",
    "import sys\n",
    "try:\n",
    "    while True:\n",
    "        line = sys.stdin.readline().strip()\n",
    "        if line == '':\n",
    "            break\n",
    "        lines = line.split()\n",
    "        print int(lines[0]) + int(lines[1])\n",
    "except:\n",
    "    pass"
   ]
  },
  {
   "cell_type": "code",
   "execution_count": 7,
   "metadata": {},
   "outputs": [
    {
     "name": "stdout",
     "output_type": "stream",
     "text": [
      "0\n"
     ]
    }
   ],
   "source": [
    "import sys\n",
    "n = sys.stdin.readline()\n",
    "print(len(n))"
   ]
  },
  {
   "cell_type": "markdown",
   "metadata": {},
   "source": [
    "## 输入\n",
    "### readline()\n",
    "```python\n",
    "n = sys.stdin.readline()\n",
    "print len(n)\n",
    "```\n",
    "\n",
    "输入：abc\n",
    "\n",
    "输出：4\n",
    "\n",
    "原因：readline()会将标准输入的内容全部获取，包含最后的换行符，ASCII码十进制值为10\n",
    "\n",
    "备注：一次只能读入一行"
   ]
  },
  {
   "cell_type": "code",
   "execution_count": null,
   "metadata": {},
   "outputs": [],
   "source": []
  }
 ],
 "metadata": {
  "kernelspec": {
   "display_name": "Python 3",
   "language": "python",
   "name": "python3"
  },
  "language_info": {
   "codemirror_mode": {
    "name": "ipython",
    "version": 3
   },
   "file_extension": ".py",
   "mimetype": "text/x-python",
   "name": "python",
   "nbconvert_exporter": "python",
   "pygments_lexer": "ipython3",
   "version": "3.7.3"
  }
 },
 "nbformat": 4,
 "nbformat_minor": 2
}
