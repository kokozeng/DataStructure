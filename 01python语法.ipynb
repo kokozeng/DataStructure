{
 "cells": [
  {
   "cell_type": "markdown",
   "metadata": {},
   "source": [
    "# python语法不清晰概念总结"
   ]
  },
  {
   "cell_type": "markdown",
   "metadata": {},
   "source": [
    "# Python 标识符\n",
    "在 Python 里，标识符由字母、数字、下划线组成。\n",
    "\n",
    "在 Python 中，所有标识符可以包括英文、数字以及下划线(_)，但不能以数字开头。\n",
    "\n",
    "Python 中的标识符是区分大小写的。\n",
    "\n",
    "以下划线开头的标识符是有特殊意义的。以单下划线开头 _foo 的代表不能直接访问的类属性，需通过类提供的接口进行访问，不能用 from xxx import * 而导入。\n",
    "\n",
    "以双下划线开头的*__foo*代表类的私有成员，以双下划线开头和结尾的__foo__代表 Python 里特殊方法专用的标识，如__init__()代表类的构造函数。\n",
    "\n",
    "Python 可以同一行显示多条语句，方法是用分号 ; 分开，如："
   ]
  },
  {
   "cell_type": "markdown",
   "metadata": {},
   "source": [
    "## python 数据类型\n",
    "\n",
    "Python3 的六个标准数据类型中：\n",
    "\n",
    "不可变数据（3 个）：Number（数字）、String（字符串）、Tuple（元组）；\n",
    "\n",
    "可变数据（3 个）：List（列表）、Dictionary（字典）、Set（集合）"
   ]
  },
  {
   "cell_type": "code",
   "execution_count": 50,
   "metadata": {},
   "outputs": [
    {
     "name": "stdout",
     "output_type": "stream",
     "text": [
      "<class 'int'> <class 'float'> <class 'bool'> <class 'complex'>\n"
     ]
    }
   ],
   "source": [
    "a, b, c, d = 20, 5.5, True, 4+3j\n",
    "print(type(a), type(b), type(c), type(d))"
   ]
  },
  {
   "cell_type": "code",
   "execution_count": 51,
   "metadata": {},
   "outputs": [
    {
     "name": "stdout",
     "output_type": "stream",
     "text": [
      "0.5\n",
      "0\n",
      "2\n",
      "32\n"
     ]
    }
   ],
   "source": [
    "print(2 / 4)  # 除法，得到一个浮点数\n",
    "print(2 // 4) # 除法，得到一个整数\n",
    "print(17 % 3) # 取余 \n",
    "print(2 ** 5) # 乘方"
   ]
  },
  {
   "cell_type": "markdown",
   "metadata": {},
   "source": [
    "## 字典\n",
    "字典是另一种可变容器模型，且可存储任意类型对象。\n",
    "\n",
    "字典的每个键值(key=>value)对用冒号(:)分割，每个对之间用逗号(,)分割，整个字典包括在花括号({})中 ,格式如下所示：\n",
    "\n",
    "d = {key1 : value1, key2 : value2 }\n",
    "键必须是唯一的，但值则不必。\n",
    "\n",
    "值可以取任何数据类型，但键必须是不可变的，如字符串，数字或元组。\n",
    "\n",
    "一个简单的字典实例："
   ]
  },
  {
   "cell_type": "code",
   "execution_count": 63,
   "metadata": {},
   "outputs": [
    {
     "name": "stdout",
     "output_type": "stream",
     "text": [
      "dict['Name']:  Runoob\n",
      "dict['Age']:  7\n",
      "Ture2\n"
     ]
    }
   ],
   "source": [
    "dict = {'Name': 'Runoob', 'Age': 7, 'Class': 'First'}\n",
    " \n",
    "print (\"dict['Name']: \", dict['Name'])\n",
    "print (\"dict['Age']: \", dict['Age'])\n",
    "# dict里面判断的是key的值\n",
    "# dict[]里面索引的是key，对应的值是value\n",
    "if 'Runoob' in dict:\n",
    "    print('Ture1')\n",
    "if 'Name' in dict:\n",
    "    print('Ture2')"
   ]
  },
  {
   "cell_type": "code",
   "execution_count": 9,
   "metadata": {},
   "outputs": [
    {
     "name": "stdout",
     "output_type": "stream",
     "text": [
      "20 10\n"
     ]
    }
   ],
   "source": [
    "# python 交换变量\n",
    "a = 10\n",
    "b = 20\n",
    "a, b = b, a\n",
    "print(a,b)\n",
    "\n",
    "\n",
    "#python变量实际上存的是一个地址,变量维护的是一个地址，可以指代任何东西\n"
   ]
  },
  {
   "cell_type": "code",
   "execution_count": 6,
   "metadata": {},
   "outputs": [
    {
     "name": "stdout",
     "output_type": "stream",
     "text": [
      "3.0 -4.5\n"
     ]
    }
   ],
   "source": [
    "#!/usr/bin/python3\n",
    "# 类的init初始化\n",
    "class Complex:\n",
    "    def __init__(self, realpart, imagpart):\n",
    "        self.r = realpart\n",
    "        self.i = imagpart\n",
    "x = Complex(3.0, -4.5)\n",
    "print(x.r, x.i)   # 输出结果：3.0 -4.5"
   ]
  },
  {
   "cell_type": "markdown",
   "metadata": {},
   "source": [
    "# 关键字"
   ]
  },
  {
   "cell_type": "markdown",
   "metadata": {},
   "source": [
    "##  range\n",
    "函数语法：\n",
    "\n",
    "`range(start, stop[, step])`\n",
    "\n",
    "参数说明：\n",
    "\n",
    "start: 计数从 start 开始。默认是从 0 开始。例如range（5）等价于range（0， 5）;\n",
    "\n",
    "stop: 计数到 stop 结束，但不包括 stop。例如：range（0， 5） 是[0, 1, 2, 3, 4]没有5\n",
    "\n",
    "step：步长，默认为1。例如：range（0， 5） 等价于 range(0, 5, 1)"
   ]
  },
  {
   "cell_type": "code",
   "execution_count": 64,
   "metadata": {},
   "outputs": [
    {
     "name": "stdout",
     "output_type": "stream",
     "text": [
      "123456789\n",
      "\n",
      "0123456789\n",
      "\n",
      "0369\n",
      "\n",
      "\n",
      "\n"
     ]
    }
   ],
   "source": [
    "# range\n",
    "for i in range(1, 10): #[m, n)\n",
    "    print(i, end = '')\n",
    "print('\\n')\n",
    "for i in range(10): #[0, n) 相当于开始是0\n",
    "    print(i, end = '')\n",
    "print('\\n')\n",
    "for i in range(0, 10, 3):\n",
    "    print(i, end = '')\n",
    "print('\\n')\n",
    "for i in range(0, 10, -1):\n",
    "    print(i, end = '')\n",
    "print('\\n')\n",
    "for i in range(0):\n",
    "    print(i, end = '')"
   ]
  },
  {
   "cell_type": "markdown",
   "metadata": {},
   "source": [
    "## sort\n",
    "\n",
    "### 描述\n",
    "sort() 函数用于对原列表进行排序，如果指定参数，则使用比较函数指定的比较函数。\n",
    "\n",
    "### 语法\n",
    "sort()方法语法：\n",
    "\n",
    "list.sort(cmp=None, key=None, reverse=False)\n",
    "\n",
    "参数\n",
    "\n",
    "cmp -- 可选参数, 如果指定了该参数会使用该参数的方法进行排序。\n",
    "\n",
    "key -- 主要是用来进行比较的元素，只有一个参数，具体的函数的参数就是取自于可迭代对象中，指定可迭代对象中的一个元素来进行排序。\n",
    "\n",
    "reverse -- 排序规则，reverse = True 降序， reverse = False 升序（默认）。"
   ]
  },
  {
   "cell_type": "code",
   "execution_count": 25,
   "metadata": {},
   "outputs": [
    {
     "name": "stdout",
     "output_type": "stream",
     "text": [
      "将字符串按空格分割: ['abc00000', '12345678', '90000000']\n",
      "字符串升序: ['12345678', '90000000', 'abc00000']\n",
      "字符串降序: ['abc00000', '90000000', '12345678']\n",
      "排序列表： ['12345678', '90000000', 'abc00000']\n"
     ]
    }
   ],
   "source": [
    "s='abc00000 12345678 90000000'\n",
    "s = s.split()\n",
    "print(\"将字符串按空格分割:\", s)\n",
    "s.sort()\n",
    "print(\"字符串升序:\", s)\n",
    "s.sort(reverse=True)\n",
    "print(\"字符串降序:\", s)\n",
    "\n",
    "'''没看懂这里是什么操作'''\n",
    "# 获取列表的第二个元素\n",
    "def takeSecond(elem):\n",
    "    return elem[0]\n",
    " \n",
    "# 指定第二个元素排序\n",
    "s.sort(key=takeSecond)\n",
    " \n",
    "# 输出类别\n",
    "print ('排序列表：', s)"
   ]
  },
  {
   "cell_type": "code",
   "execution_count": 28,
   "metadata": {},
   "outputs": [
    {
     "name": "stdout",
     "output_type": "stream",
     "text": [
      "随机排序列表 :  [10, 16, 5, 20]\n",
      "随机排序列表 :  [20, 5, 10, 16]\n"
     ]
    }
   ],
   "source": [
    "# random\n",
    "import random\n",
    "\n",
    "list = [20, 16, 10, 5];\n",
    "random.shuffle(list)\n",
    "print(\"随机排序列表 : \", list)\n",
    "\n",
    "random.shuffle(list)\n",
    "print(\"随机排序列表 : \", list)"
   ]
  },
  {
   "cell_type": "markdown",
   "metadata": {},
   "source": [
    "## yield\n",
    "\n",
    "yield 是一个类似 return 的关键字，只是这个函数返回的是个生成器\n",
    "当你调用这个函数的时候，函数内部的代码并不立马执行 ，这个函数只是返回一个生成器对象\n",
    "当你使用for进行迭代的时候，函数中的代码才会执行"
   ]
  },
  {
   "cell_type": "code",
   "execution_count": 49,
   "metadata": {},
   "outputs": [
    {
     "name": "stdout",
     "output_type": "stream",
     "text": [
      "1 1 2 3 5 8 "
     ]
    }
   ],
   "source": [
    "def fab(max): \n",
    "    n, a, b = 0, 0, 1 \n",
    "    while n < max: \n",
    "        yield b      # 使用 yield\n",
    "        #print (b) \n",
    "        a, b = b, a + b \n",
    "        n = n + 1\n",
    "for n in fab(6):\n",
    "    print (n, end = ' ')"
   ]
  },
  {
   "cell_type": "code",
   "execution_count": null,
   "metadata": {},
   "outputs": [],
   "source": []
  }
 ],
 "metadata": {
  "kernelspec": {
   "display_name": "Python 3",
   "language": "python",
   "name": "python3"
  },
  "language_info": {
   "codemirror_mode": {
    "name": "ipython",
    "version": 3
   },
   "file_extension": ".py",
   "mimetype": "text/x-python",
   "name": "python",
   "nbconvert_exporter": "python",
   "pygments_lexer": "ipython3",
   "version": "3.7.3"
  }
 },
 "nbformat": 4,
 "nbformat_minor": 2
}
