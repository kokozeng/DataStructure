{
 "cells": [
  {
   "cell_type": "markdown",
   "metadata": {},
   "source": [
    "![](https://ws3.sinaimg.cn/large/006tNc79ly1g1wp0db84ej31eo0tojv0.jpg)\n",
    "\n",
    "应用:1 * （2+3）"
   ]
  },
  {
   "cell_type": "code",
   "execution_count": 7,
   "metadata": {},
   "outputs": [
    {
     "name": "stdout",
     "output_type": "stream",
     "text": [
      "3\n",
      "itcast\n",
      "itcast\n",
      "world\n",
      "hello\n"
     ]
    }
   ],
   "source": [
    "class stack(object):\n",
    "    '''stack'''\n",
    "    def __init__(self):\n",
    "        self.__list = []\n",
    "        \n",
    "    def push(self, item):\n",
    "        '''添加一个元素item到栈顶'''\n",
    "        self.__list.append(item)\n",
    "    \n",
    "    def pop(self):\n",
    "        '''弹出栈顶元素'''\n",
    "        return self.__list.pop()\n",
    "    \n",
    "    def peek(self):\n",
    "        '''返回栈顶元素'''\n",
    "        return self.__list[-1]\n",
    "    \n",
    "    def is_empty(self):\n",
    "        '''判空'''\n",
    "        return (self.__list == [])\n",
    "    \n",
    "    def size(self):\n",
    "        '''返回栈的大小'''\n",
    "        return (len(self.__list))\n",
    "\n",
    "if __name__ == \"__main__\":\n",
    "    stack = stack()\n",
    "    stack.push(\"hello\")\n",
    "    stack.push(\"world\")\n",
    "    stack.push(\"itcast\")\n",
    "    print(stack.size())\n",
    "    print(stack.peek())\n",
    "    print(stack.pop())\n",
    "    print(stack.pop())\n",
    "    print(stack.pop())\n",
    "        "
   ]
  },
  {
   "cell_type": "markdown",
   "metadata": {},
   "source": [
    "![](https://ws3.sinaimg.cn/large/006tNc79ly1g1wp7tat95j31520u0aeb.jpg)"
   ]
  },
  {
   "cell_type": "code",
   "execution_count": 9,
   "metadata": {},
   "outputs": [
    {
     "name": "stdout",
     "output_type": "stream",
     "text": [
      "3\n",
      "hello\n",
      "world\n",
      "itcast\n"
     ]
    }
   ],
   "source": [
    "class Queue(object):\n",
    "    def __init__(self):\n",
    "        self.__list = []\n",
    "        \n",
    "    def enqueue(self, item):\n",
    "        '''进队'''\n",
    "        '''在头部添加o(n), 头部弹o(1)'''\n",
    "        '''尾部添加o(1), 尾部弹o（n)'''\n",
    "        self.__list.insert(0, item) #头部添加\n",
    "        # self.__list.append(item) #尾部添加\n",
    "        \n",
    "    def dequeue(self):\n",
    "        '''出队'''\n",
    "        return self.__list.pop() #尾部弹\n",
    "        # return self.__list.pop(0) #头部弹\n",
    "    \n",
    "    def is_empty(self):\n",
    "        \"\"\"判断队列是否为空\"\"\"\n",
    "        return self.__list == []\n",
    "    \n",
    "    def size(self):\n",
    "        \"\"\"返回队列大小\"\"\"\n",
    "        return len(self.__list)\n",
    "    \n",
    "if __name__ == \"__main__\":\n",
    "    q = Queue()\n",
    "    q.enqueue(\"hello\")\n",
    "    q.enqueue(\"world\")\n",
    "    q.enqueue(\"itcast\")\n",
    "    print(q.size())\n",
    "    print(q.dequeue())\n",
    "    print(q.dequeue())\n",
    "    print(q.dequeue())"
   ]
  },
  {
   "cell_type": "markdown",
   "metadata": {},
   "source": [
    "![](https://ws3.sinaimg.cn/large/006tNc79ly1g1wq9x6cpbj31fw0kkwgl.jpg)"
   ]
  },
  {
   "cell_type": "code",
   "execution_count": 10,
   "metadata": {},
   "outputs": [
    {
     "name": "stdout",
     "output_type": "stream",
     "text": [
      "4\n",
      "[2, 1, 3, 4]\n",
      "2\n",
      "1\n",
      "4\n",
      "3\n"
     ]
    }
   ],
   "source": [
    "\"\"\"双端队列（deque：double-ended-queue）\n",
    "可以在任一端入队和出队\n",
    "\"\"\"\n",
    "\n",
    "class Deque(object):\n",
    "    \"\"\"双端队列\"\"\"\n",
    "    def __init__(self):\n",
    "        self.items = []\n",
    "\n",
    "    def is_empty(self):\n",
    "        \"\"\"判断队列是否为空\"\"\"\n",
    "        return self.items == []\n",
    "\n",
    "    def add_front(self, item):\n",
    "        \"\"\"在队头添加元素\"\"\"\n",
    "        self.items.insert(0, item)\n",
    "\n",
    "    def add_rear(self, item):\n",
    "        \"\"\"在队尾添加元素\"\"\"\n",
    "        self.items.append(item)\n",
    "\n",
    "    def remove_front(self):\n",
    "        \"\"\"从队头删除元素\"\"\"\n",
    "        return self.items.pop(0)\n",
    "\n",
    "    def remove_rear(self):\n",
    "        \"\"\"从队尾删除元素\"\"\"\n",
    "        return self.items.pop()\n",
    "\n",
    "    def size(self):\n",
    "        \"\"\"返回队列的大小\"\"\"\n",
    "        return len(self.items)\n",
    "\n",
    "if __name__ == \"__main__\":\n",
    "    deque = Deque()\n",
    "    deque.add_front(1)\n",
    "    deque.add_front(2)\n",
    "    deque.add_rear(3)\n",
    "    deque.add_rear(4)\n",
    "    print(deque.size())\n",
    "    print(deque.items)\n",
    "    print(deque.remove_front())\n",
    "    print(deque.remove_front())\n",
    "    print(deque.remove_rear())\n",
    "    print(deque.remove_rear())"
   ]
  }
 ],
 "metadata": {
  "kernelspec": {
   "display_name": "Python 3",
   "language": "python",
   "name": "python3"
  },
  "language_info": {
   "codemirror_mode": {
    "name": "ipython",
    "version": 3
   },
   "file_extension": ".py",
   "mimetype": "text/x-python",
   "name": "python",
   "nbconvert_exporter": "python",
   "pygments_lexer": "ipython3",
   "version": "3.7.3"
  }
 },
 "nbformat": 4,
 "nbformat_minor": 2
}
