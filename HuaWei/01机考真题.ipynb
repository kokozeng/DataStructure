{
 "cells": [
  {
   "cell_type": "markdown",
   "metadata": {},
   "source": [
    "### 4.3 机试第一道题\n",
    "\n",
    "输入：\n",
    "3\n",
    "2,5,6,7,9,5,7\n",
    "1,7,4,3,4\n",
    "\n",
    "输出：\n",
    "2,5,6,1,7,4,7,9,5,3,4,7"
   ]
  },
  {
   "cell_type": "code",
   "execution_count": null,
   "metadata": {},
   "outputs": [],
   "source": [
    "import sys\n",
    "if __name__ == \"__main__\":\n",
    "    n = int(sys.stdin.readline().strip())\n",
    "    result = list()\n",
    "    digits = list()\n",
    "    while True:\n",
    "        line = sys.stdin.readline()\n",
    "        if not line:\n",
    "            break\n",
    "        else:\n",
    "            digits.append(line.strip().split(','))\n",
    "    flag = True\n",
    "    while flag:\n",
    "        flag = False\n",
    "        for i in range(len(digits)):\n",
    "            d_line = digits[i]\n",
    "            if len(d_line) > 0:\n",
    "                result.extend(d_line[:n])\n",
    "                digits[i]=d_line[n:]\n",
    "                flag = True\n",
    "    print(','.join(result))"
   ]
  },
  {
   "cell_type": "markdown",
   "metadata": {},
   "source": [
    "### 4.3 机试 第二题\n"
   ]
  },
  {
   "cell_type": "code",
   "execution_count": null,
   "metadata": {},
   "outputs": [],
   "source": [
    "import sys\n",
    "def is_valid(ch):\n",
    "    return '0'<=ch<='9' or 'a'<=ch<='z' or 'A'<=ch<='Z'\n",
    "\n",
    "if __name__ == \"__main__\":\n",
    "    result = []\n",
    "    valid = []\n",
    "    invalid = []\n",
    "    while True:\n",
    "        line = sys.stdin.readline()\n",
    "        if not line:\n",
    "            break\n",
    "        else:\n",
    "            line = line.strip()\n",
    "            str_is_valid = True\n",
    "            for ch in set(line):\n",
    "                if not is_valid(ch):\n",
    "                    str_is_valid = False\n",
    "                    break\n",
    "                if str_is_valid:\n",
    "                    if not (line in valid):\n",
    "                        valid.append(line)\n",
    "                else:\n",
    "                    invalid.append(line)\n",
    "                        "
   ]
  },
  {
   "cell_type": "markdown",
   "metadata": {},
   "source": [
    "### 4.10 机试 第二题\n",
    "给定一个字符串，字符串包含数字，大小写字母以及括号（包括大括号，中括号和小括号），括号可以嵌套，即括号里面可以出现数字和括号，\n",
    "\n",
    "按照如下的规则对字符串进行展开，不需要考虑括号成对不匹配问题，用例保证括号匹配，同时用例保证每个数字后面都有括号，不用考虑数字后面没有括号这种情况，即2a2(b)这种情况不用考虑。\n",
    "\n",
    "数字表示括号里的字符串重复的次数，展开后的字符串不包含括号，\n",
    "\n",
    "将字符串进行逆序展开\n",
    "\n",
    "\n",
    "\n",
    "abc3(A)\n",
    "\n",
    "AAAcba\n",
    "\n",
    "注意：题目已经说了用例保证括号匹配，所以一定要仔细看用例。"
   ]
  },
  {
   "cell_type": "code",
   "execution_count": 8,
   "metadata": {},
   "outputs": [
    {
     "name": "stdout",
     "output_type": "stream",
     "text": [
      "cccbcccbAAAcba\n"
     ]
    }
   ],
   "source": [
    "def ysy(s):\n",
    "    def group(a):\n",
    "        num=''\n",
    "        i=0\n",
    "        # 当遇到数字的时候记录数字,遇到非数字的时候停止循环，输出数字\n",
    "        while i<len(a) and a[i].isdigit():\n",
    "            num+=a[i]\n",
    "            i+=1       \n",
    "        num=int(num)\n",
    "        j,cnt=i+1,1\n",
    "        while j<len(a) and cnt>0:\n",
    "            if a[j] in '{([':\n",
    "                cnt+=1\n",
    "            elif a[j] in '})]':\n",
    "                cnt-=1\n",
    "            j+=1\n",
    "        return num,i,j-1\n",
    "    res=''\n",
    "    while s:\n",
    "        cur=s[0]\n",
    "        if cur.isdigit():\n",
    "            num,i,j=group(s)\n",
    "            res+=ysy(s[i+1:j])*num\n",
    "            s=s[j+1:]\n",
    "        else:\n",
    "            res+=cur\n",
    "            s=s[1:]\n",
    "    return res\n",
    "if __name__=='__main__':\n",
    "    s='abc3(A)2(b3(c))'\n",
    "    print(ysy(s)[::-1])"
   ]
  },
  {
   "cell_type": "code",
   "execution_count": null,
   "metadata": {},
   "outputs": [],
   "source": [
    "#作者：K-fall\n",
    "#链接：https://www.nowcoder.com/discuss/169456\n",
    "#来源：牛客网\n",
    "\n",
    "start = 0\n",
    "res = ['']*n\n",
    "i = 0\n",
    "while i < len(string):\n",
    "    if string[i]=='1':\n",
    "        j = i+1\n",
    "        while j<len(string) and j<=i+8:\n",
    "            res[start] += string[j]\n",
    "            print(res[start],string[j])\n",
    "            j += 1\n",
    "        start+=1\n",
    "    elif string[i]=='0':\n",
    "        j = i+1\n",
    "        while j<len(string) and j<=i+8:\n",
    "            j += 1\n",
    "        while j>i+1:\n",
    "            j-=1\n",
    "            res[start] += string[j]\n",
    "        start+=1\n",
    "    i += 9\n",
    "for i in range(n):\n",
    "#     print(res[i])\n",
    "    if res[i]!='':\n",
    "        if i==n-1:\n",
    "            print(res[i],end='')\n",
    "        else:\n",
    "            print(res[i],end=' ')"
   ]
  },
  {
   "cell_type": "markdown",
   "metadata": {},
   "source": [
    "3.20 https://blog.csdn.net/lyxleft/article/details/88698136\n",
    "\n",
    "3.27 https://blog.csdn.net/watermelon_learn/article/details/88902117\n",
    "\n",
    "4.3 https://www.nowcoder.com/discuss/173003"
   ]
  },
  {
   "cell_type": "code",
   "execution_count": null,
   "metadata": {},
   "outputs": [],
   "source": []
  },
  {
   "cell_type": "code",
   "execution_count": null,
   "metadata": {},
   "outputs": [],
   "source": []
  }
 ],
 "metadata": {
  "kernelspec": {
   "display_name": "Python 3",
   "language": "python",
   "name": "python3"
  },
  "language_info": {
   "codemirror_mode": {
    "name": "ipython",
    "version": 3
   },
   "file_extension": ".py",
   "mimetype": "text/x-python",
   "name": "python",
   "nbconvert_exporter": "python",
   "pygments_lexer": "ipython3",
   "version": "3.7.3"
  }
 },
 "nbformat": 4,
 "nbformat_minor": 2
}
