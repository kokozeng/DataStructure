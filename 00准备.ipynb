{
 "cells": [
  {
   "cell_type": "markdown",
   "metadata": {},
   "source": [
    "教材：\n",
    "\n",
    "《大话数据结构》\n",
    "\n",
    "其他材料：\n",
    "\n",
    "《大话数据结构》python实现 https://github.com/search?l=Python&q=%E5%A4%A7%E8%AF%9D%E6%95%B0%E6%8D%AE%E7%BB%93%E6%9E%84&type=Repositories \n",
    "\n",
    " 北大数据结构与算法分析（python) http://gis4g.pku.edu.cn/course/pythonds/\n",
    " https://github.com/PegasusWang/python_data_structures_and_algorithms\n",
    " \n",
    " 数据结构与算法分析（python) https://github.com/PegasusWang/python_data_structures_and_algorithms"
   ]
  },
  {
   "cell_type": "code",
   "execution_count": null,
   "metadata": {},
   "outputs": [],
   "source": []
  },
  {
   "cell_type": "code",
   "execution_count": null,
   "metadata": {},
   "outputs": [],
   "source": []
  }
 ],
 "metadata": {
  "kernelspec": {
   "display_name": "Python 3",
   "language": "python",
   "name": "python3"
  },
  "language_info": {
   "codemirror_mode": {
    "name": "ipython",
    "version": 3
   },
   "file_extension": ".py",
   "mimetype": "text/x-python",
   "name": "python",
   "nbconvert_exporter": "python",
   "pygments_lexer": "ipython3",
   "version": "3.7.3"
  }
 },
 "nbformat": 4,
 "nbformat_minor": 2
}
