{
 "cells": [
  {
   "cell_type": "markdown",
   "metadata": {},
   "source": [
    "教材：\n",
    "\n",
    "《大话数据结构》\n",
    "《算法图解》\n",
    "其他材料：\n",
    "\n",
    "《大话数据结构》python实现 https://github.com/search?l=Python&q=%E5%A4%A7%E8%AF%9D%E6%95%B0%E6%8D%AE%E7%BB%93%E6%9E%84&type=Repositories \n",
    "\n",
    " 北大数据结构与算法分析（python) http://gis4g.pku.edu.cn/course/pythonds/\n",
    " https://github.com/PegasusWang/python_data_structures_and_algorithms\n",
    " \n",
    " 数据结构与算法分析（python) https://github.com/PegasusWang/python_data_structures_and_algorithms\n",
    " \n",
    " B站课程 https://www.bilibili.com/video/av17888581?p=3\n",
    " \n",
    " 极客时间 数据结构与算法之美 https://time.geekbang.org/column/intro/126"
   ]
  },
  {
   "cell_type": "code",
   "execution_count": 11,
   "metadata": {},
   "outputs": [
    {
     "name": "stdout",
     "output_type": "stream",
     "text": [
      "<class 'list'>\n",
      "['5', '4', '3', '2', '1']\n",
      "['1', '2', '3', '4']\n",
      "['5', '4', '3']\n",
      "<class 'str'>\n",
      "gfedc\n"
     ]
    }
   ],
   "source": [
    "number = '12345'\n",
    "number = list(number)\n",
    "print(type(number))\n",
    "print(number[::-1])\n",
    "print(number[:-1])\n",
    "print(number[-1:1:-1])\n",
    "s = 'abcdefg'\n",
    "print(type(s))\n",
    "print(s[-1:1:-1])"
   ]
  },
  {
   "cell_type": "code",
   "execution_count": null,
   "metadata": {},
   "outputs": [],
   "source": []
  },
  {
   "cell_type": "code",
   "execution_count": null,
   "metadata": {},
   "outputs": [],
   "source": []
  }
 ],
 "metadata": {
  "kernelspec": {
   "display_name": "Python 3",
   "language": "python",
   "name": "python3"
  },
  "language_info": {
   "codemirror_mode": {
    "name": "ipython",
    "version": 3
   },
   "file_extension": ".py",
   "mimetype": "text/x-python",
   "name": "python",
   "nbconvert_exporter": "python",
   "pygments_lexer": "ipython3",
   "version": "3.7.3"
  }
 },
 "nbformat": 4,
 "nbformat_minor": 2
}
