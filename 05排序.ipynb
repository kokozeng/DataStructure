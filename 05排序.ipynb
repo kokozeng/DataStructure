{
 "cells": [
  {
   "cell_type": "code",
   "execution_count": 8,
   "metadata": {},
   "outputs": [
    {
     "name": "stdout",
     "output_type": "stream",
     "text": [
      "[4, 12, 23, 34, 45, 56, 64, 123, 523, 5346]\n"
     ]
    }
   ],
   "source": [
    "# 冒泡排序\n",
    "def bubblesort(alist):\n",
    "    for j in range(len(alist)-1, 0, -1):\n",
    "        count = 0\n",
    "        for i in range(j):\n",
    "            if alist[i] > alist[i+1]:\n",
    "                alist[i], alist[i+1] = alist[i+1], alist[i]\n",
    "                count +=1\n",
    "        if count == 0:\n",
    "            return alist\n",
    "    return alist\n",
    "if __name__ == \"__main__\":\n",
    "    alist=[12,34,56,45,23,523,64,123,5346,4]\n",
    "    alist = bubblesort(alist)\n",
    "    print(alist)"
   ]
  }
 ],
 "metadata": {
  "kernelspec": {
   "display_name": "Python 3",
   "language": "python",
   "name": "python3"
  },
  "language_info": {
   "codemirror_mode": {
    "name": "ipython",
    "version": 3
   },
   "file_extension": ".py",
   "mimetype": "text/x-python",
   "name": "python",
   "nbconvert_exporter": "python",
   "pygments_lexer": "ipython3",
   "version": "3.7.3"
  }
 },
 "nbformat": 4,
 "nbformat_minor": 2
}
