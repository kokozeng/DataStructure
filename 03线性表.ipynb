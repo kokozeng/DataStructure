{
 "cells": [
  {
   "cell_type": "markdown",
   "metadata": {},
   "source": [
    "# 线性表\n",
    "## 线性表的概念\n",
    "线性表（list）零个或多个数据元素的有限序列"
   ]
  },
  {
   "cell_type": "markdown",
   "metadata": {},
   "source": [
    "## 线性表的存储\n",
    "### 顺序存储\n",
    "顺序存储的方式一般是一维数组\n",
    "存、读数据的时间复杂度是o(1)，插入和删除时的时间复杂度是o(n)。"
   ]
  },
  {
   "cell_type": "code",
   "execution_count": 75,
   "metadata": {},
   "outputs": [
    {
     "name": "stdout",
     "output_type": "stream",
     "text": [
      "[1, 2, 6, 3, 4, 5]\n"
     ]
    }
   ],
   "source": [
    "# 求并集\n",
    "res = [1,2,3,4,5]\n",
    "L = [1,2,6]\n",
    "def union(a, b):\n",
    "    for i in a:\n",
    "        if i not in b:\n",
    "            b.append(i)\n",
    "    return b\n",
    "print(union(res, L))"
   ]
  },
  {
   "cell_type": "code",
   "execution_count": null,
   "metadata": {},
   "outputs": [],
   "source": [
    "list.append(x) #把一个元素添加到列表的结尾，相当于 a[len(a):] = [x]。\n",
    "list.extend(L) #通过添加指定列表的所有元素来扩充列表，相当于 a[len(a):] = L。\n",
    "list.insert(i, x) #在指定位置插入一个元素。第一个参数是准备插入到其前面的那个元素的索引，例如 a.insert(0, x) 会插入到整个列表之前，\n",
    "                 #而 a.insert(len(a), x) 相当于 a.append(x) 。\n",
    "list.remove(x) #删除列表中值为 x 的第一个元素。如果没有这样的元素，就会返回一个错误。\n",
    "list.pop([i]) #从列表的指定位置移除元素，并将其返回。如果没有指定索引，a.pop()返回最后一个元素。元素随即从列表中被移除。\n",
    " #（方法中 i 两边的方括号表示这个参数是可选的，而不是要求你输入一对方括号，你会经常在 Python 库参考手册中遇到这样的标记。）\n",
    "list.clear() #移除列表中的所有项，等于del a[:]。\n",
    "list.index(x) #返回列表中第一个值为 x 的元素的索引。如果没有匹配的元素就会返回一个错误。\n",
    "list.count(x) #返回 x 在列表中出现的次数。\n",
    "list.sort() #对列表中的元素进行排序。\n",
    "list.reverse() #倒排列表中的元素。\n",
    "list.copy() #返回列表的浅复制，等于a[:]。"
   ]
  },
  {
   "cell_type": "code",
   "execution_count": 76,
   "metadata": {},
   "outputs": [
    {
     "name": "stdout",
     "output_type": "stream",
     "text": [
      "6\n"
     ]
    }
   ],
   "source": [
    "# 得到线性表中的某个元素\n",
    "L = [1,2,6]\n",
    "def getElem(L, i):\n",
    "    if len(L) == 0 or i < 1 or i > len(L): # or 是逻辑或运算  and/or/not 与/或/非\n",
    "        return\n",
    "    return L[i-1]\n",
    "print(getElem(L, 3))"
   ]
  },
  {
   "cell_type": "code",
   "execution_count": 45,
   "metadata": {},
   "outputs": [
    {
     "name": "stdout",
     "output_type": "stream",
     "text": [
      "[1, 2, 2, 3]\n"
     ]
    }
   ],
   "source": [
    "# 插入某个元素\n",
    "L = [1,2,3]\n",
    "def listInsert(L, i, x):\n",
    "    if i < 1 or i > len(L) + 1:\n",
    "        return\n",
    "    L.insert(i-1, x)\n",
    "    return(L)\n",
    "print(listInsert(L, 2, 2))"
   ]
  },
  {
   "cell_type": "code",
   "execution_count": 5,
   "metadata": {},
   "outputs": [
    {
     "name": "stdout",
     "output_type": "stream",
     "text": [
      "([1, 2, 4, 5], 3)\n",
      "([1, 2, 4, 5], 3)\n"
     ]
    }
   ],
   "source": [
    "# 删除某个元素\n",
    "# 初始条件：顺序线性表L已经存在，0<i<len(L)+1\n",
    "# 操作结果：删除L的第i个数据元素，并用e返回其值，L的长度减1\n",
    "L = [1,2,3,4,5]\n",
    "def listDelete1(L, i):\n",
    "    if len(L) == 0: #线性表为空\n",
    "        return\n",
    "    if i < 1 or i > len(L): #判断i的位置是否在L内\n",
    "        return\n",
    "    e = L[i-1]\n",
    "    if i < len(L): #如果删除不是最后位置\n",
    "        for k in range(i, len(L)):\n",
    "            L[k-1] = L[k]\n",
    "    L = L[:-1]\n",
    "    #L = L[:len(L)-1]\n",
    "    return L,e\n",
    "print(listDelete1(L, 3))\n",
    "\n",
    "L = [1,2,3,4,5]\n",
    "def listDelete2(L, i):\n",
    "    e = L.pop(i-1)\n",
    "    return L, e\n",
    "print(listDelete2(L, 3))"
   ]
  },
  {
   "cell_type": "code",
   "execution_count": null,
   "metadata": {},
   "outputs": [],
   "source": []
  },
  {
   "attachments": {},
   "cell_type": "markdown",
   "metadata": {},
   "source": [
    "### 链式存储\n",
    "用一组任意的存储单元存储线性表的数据元素，这组存储单元可以是连续的，也可以是不连续的。\n",
    "\n",
    "在链式结构中，除了要存数据元素信息之外，还要存储它的后继元素的存储地址。\n",
    "\n",
    "把存储数据元素信息的域称之为数据域，把存储直接后继位置的域称为指针域。指针域中存储的信息称为指针或链。这两部分组成称之为结点。\n",
    "\n",
    "每个结点中只包含一个指针域，叫做单链表。单链表通过每个结点的指针域将线性表的数据元素按其逻辑次序连接在一起。\n",
    "\n",
    "链表中第一个结点的存储位置叫做头指针，整个链表的存取从头指针开始，之后的每一个结点，都是上一个的后继指针指向的位置。最后一个结点为空，NULL或^。\n",
    "\n",
    "为了更方便地对链表进行操作，会在单链表的第一个结点前附设一个结点， 称为头结点。\n",
    "\n"
   ]
  },
  {
   "attachments": {},
   "cell_type": "markdown",
   "metadata": {},
   "source": [
    "#### 单链表\n",
    "![image.png](/picture/singlelinklist.png)\n",
    "\n",
    "class node:\n",
    "\n",
    "    elem\n",
    "    next   \n",
    "node1变量:\n",
    "\n",
    "    elem = 10\n",
    "    next = node2\n",
    "node2变量:\n",
    "\n",
    "    elem = 20\n",
    "    next\n",
    "    \n",
    "*因为变量的本质就是地址*"
   ]
  },
  {
   "cell_type": "markdown",
   "metadata": {},
   "source": [
    "##### 单链表操作\n",
    "* is_empty() 链表是否为空\n",
    "* length() 链表的长度\n",
    "* travel() 遍历整个链表\n",
    "* add(item) 链表头部添加元素\n",
    "* append(item) 链表尾部添加元素\n",
    "* insert(pos, item) 指定位置添加元素\n",
    "* remove(item) 删除节点\n",
    "* search(item) 查找节点是否存在"
   ]
  },
  {
   "cell_type": "markdown",
   "metadata": {},
   "source": [
    "#### 单链表的读取"
   ]
  },
  {
   "cell_type": "code",
   "execution_count": 25,
   "metadata": {},
   "outputs": [
    {
     "name": "stdout",
     "output_type": "stream",
     "text": [
      "True\n",
      "0\n",
      "False\n",
      "5\n",
      "1 2 3 4 5 "
     ]
    }
   ],
   "source": [
    "# 单结点\n",
    "class Node(object):\n",
    "    '''节点'''\n",
    "    def __init__(self, elem):\n",
    "        self.elem = elem\n",
    "        self.next = None\n",
    "        \n",
    "#node= Node(100)\n",
    "\n",
    "#单链表的建立\n",
    "class singlelinklist(object):\n",
    "    '''单链表'''\n",
    "    def __init__(self, node=None):\n",
    "        self._head = node       #私有属性？\n",
    "        \n",
    "    def is_empty(self): \n",
    "        '''链表是否为空'''\n",
    "        return self._head == None\n",
    "        \n",
    "    def length(self):\n",
    "        '''链表的长度'''\n",
    "        #cur游标 用来移动遍历节点\n",
    "        cur = self._head\n",
    "        #count记录数量\n",
    "        count = 0\n",
    "        while cur != None:\n",
    "            count += 1\n",
    "            cur = cur.next\n",
    "        return count\n",
    "    \n",
    "    def travel(self):\n",
    "        '''遍历整个链表'''\n",
    "        cur = self._head\n",
    "        while cur != None:\n",
    "            print(cur.elem, end = ' ')\n",
    "            #print(cur.next)\n",
    "            cur = cur.next\n",
    "    \n",
    "    def add(self, item):\n",
    "        pass\n",
    "        \n",
    "    def append(self, item):\n",
    "        '''链表尾部添加元素, 尾插法 '''\n",
    "        '''item指的是具体的数据'''\n",
    "        node = Node(item)\n",
    "        if self.is_empty():\n",
    "            self._head = node\n",
    "        else:\n",
    "            cur = self._head\n",
    "            while cur.next != None:\n",
    "                cur = cur.next\n",
    "            cur.next = node\n",
    "        \n",
    "        \n",
    "    \n",
    "\n",
    "# * add(item) 链表头部添加元素\n",
    "# * insert(pos, item) 指定位置添加元素\n",
    "# * remove(item) 删除节点\n",
    "# * search(item) 查找节点是否存在\n",
    "\n",
    "if __name__ == \"__main__\":\n",
    "    ll = singlelinklist()\n",
    "    print(ll.is_empty())\n",
    "    print(ll.length())\n",
    "    ll.append(1)\n",
    "    ll.append(2)\n",
    "    ll.append(3)\n",
    "    ll.append(4)\n",
    "    ll.append(5)\n",
    "    print(ll.is_empty())\n",
    "    print(ll.length())\n",
    "    ll.travel()"
   ]
  },
  {
   "cell_type": "code",
   "execution_count": null,
   "metadata": {},
   "outputs": [],
   "source": []
  },
  {
   "cell_type": "code",
   "execution_count": null,
   "metadata": {},
   "outputs": [],
   "source": []
  },
  {
   "cell_type": "code",
   "execution_count": null,
   "metadata": {},
   "outputs": [],
   "source": []
  },
  {
   "cell_type": "code",
   "execution_count": null,
   "metadata": {},
   "outputs": [],
   "source": []
  },
  {
   "cell_type": "code",
   "execution_count": null,
   "metadata": {},
   "outputs": [],
   "source": []
  },
  {
   "cell_type": "code",
   "execution_count": null,
   "metadata": {},
   "outputs": [],
   "source": []
  }
 ],
 "metadata": {
  "kernelspec": {
   "display_name": "Python 3",
   "language": "python",
   "name": "python3"
  },
  "language_info": {
   "codemirror_mode": {
    "name": "ipython",
    "version": 3
   },
   "file_extension": ".py",
   "mimetype": "text/x-python",
   "name": "python",
   "nbconvert_exporter": "python",
   "pygments_lexer": "ipython3",
   "version": "3.7.3"
  }
 },
 "nbformat": 4,
 "nbformat_minor": 2
}
